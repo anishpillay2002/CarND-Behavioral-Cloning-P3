{
 "cells": [
  {
   "cell_type": "markdown",
   "metadata": {},
   "source": [
    "## Loading data from folder"
   ]
  },
  {
   "cell_type": "code",
   "execution_count": 58,
   "metadata": {
    "collapsed": false
   },
   "outputs": [
    {
     "data": {
      "text/plain": [
       "'\\n# Adding additional dataset\\nfor index, value in enumerate(measurements[1:int(meas_len/4)]):\\n    if value !=0:\\n        measurements.append(-value)\\n        flip_image=cv2.flip(images[index],1)\\n        images=np.append(images,flip_image[None,...],0)\\n        if index%500==0:\\n            print(index)\\n'"
      ]
     },
     "execution_count": 58,
     "metadata": {},
     "output_type": "execute_result"
    }
   ],
   "source": [
    "# To convert notebook to python script use\n",
    "# jupyter nbconvert --to script CarND_Behavior_Cloning.ipynb\n",
    "\n",
    "# To run\n",
    "# python CarND_Behavior_Cloning.py\n",
    "\n",
    "# Additional notebook has been created to further train the model and fine tune it.\n",
    "# name of notebook CarND_Behavior_Cloning_Add_data.ipynb\n",
    "\n",
    "# Run that instead of this\n",
    "\n",
    "# To run the model for the simulator, enter python drive.py model_add.h5 for additionally trained data and python drive.py model.h5 for the original model without additional finetuning\n",
    "\n",
    "import csv\n",
    "import cv2\n",
    "import numpy as np\n",
    "import random\n",
    "from PIL import Image\n",
    "\n",
    "\n",
    "\n",
    "\n",
    "def process_img(image):\n",
    "    image=image[65:150,0:320]\n",
    "    image=cv2.resize(image,(200,66),interpolation=cv2.INTER_AREA) \n",
    "    image = cv2.cvtColor(image, cv2.COLOR_BGR2YUV)\n",
    "    image = image/255.0 - 0.5\n",
    "    return image\n",
    "\n",
    "\n",
    "def read_images(sample_dt):\n",
    "    images=[]\n",
    "    measurements=[]\n",
    "    for line in sample_dt:\n",
    "        source_path=line[0]\n",
    "        #print('source_path',source_path)\n",
    "        #print(if (\"recorded_data\\\\IMG\") in source_path)\n",
    "        if 'recorded data\\IMG' in source_path:\n",
    "            #print('line',line)\n",
    "            #print(source_path)\n",
    "            filename=(source_path.split(\"\\\\\"))[8]\n",
    "            #print(filename)\n",
    "            current_path='../CarND-Behavioral-Cloning-P3/recorded_data/IMG/'+filename\n",
    "            image=cv2.imread(current_path)\n",
    "            image=process_img(image)\n",
    "            images.append(image)\n",
    "            measurement=float(line[3])\n",
    "            measurements.append(measurement)\n",
    "        elif 'recorded_data_add\\IMG' in source_path:\n",
    "            #print(source_path)\n",
    "            filename=(source_path.split(\"\\\\\"))[8]\n",
    "            #print(filename)\n",
    "            current_path='../CarND-Behavioral-Cloning-P3/recorded_data_add/IMG/'+filename\n",
    "            image=cv2.imread(current_path)\n",
    "            image=process_img(image)\n",
    "            images.append(image)\n",
    "            measurement=float(line[3])\n",
    "            measurements.append(measurement)\n",
    "        elif 'recorded_data_jungle\\IMG' in source_path:\n",
    "            #print(source_path)\n",
    "            filename=(source_path.split(\"\\\\\"))[8]\n",
    "            #print(filename)\n",
    "            current_path='../CarND-Behavioral-Cloning-P3/recorded_data_jungle/IMG/'+filename\n",
    "            image=cv2.imread(current_path)\n",
    "            image=process_img(image)\n",
    "            images.append(image)\n",
    "            measurement=float(line[3])\n",
    "            measurements.append(measurement)\n",
    "        else:\n",
    "            #print('other')\n",
    "            filename=source_path.split('/')[-1]\n",
    "            current_path='../CarND-Behavioral-Cloning-P3/Udacity_data/data/IMG/'+filename\n",
    "            image=cv2.imread(current_path)\n",
    "            image=process_img(image)\n",
    "            images.append(image)\n",
    "            measurement=float(line[3])\n",
    "            measurements.append(measurement)\n",
    "    #image1 = Image.open(current_path)\n",
    "    #image_array=image1.crop((0,65,320,150))\n",
    "    #image_array=image_array.resize((200,66))\n",
    "    #plt.imshow(np.asarray(image_array))\n",
    "    images.extend([np.fliplr(img) for img in images])\n",
    "    measurements.extend([-angle for angle in measurements])\n",
    "    return images,measurements\n",
    "\n",
    "def display_im(X,y):\n",
    "    index=random.randint(0,len(X))\n",
    "    image=X[index].squeeze()\n",
    "    plt.figure(figsize=(4,4))\n",
    "    #plt.imshow(image)\n",
    "    plt.imshow(cv2.cvtColor(image, cv2.COLOR_BGR2RGB))\n",
    "    print('Output Label for the input',index,' is :', y[index])\n",
    "    \n",
    "def color_change(img):\n",
    "    return cv2.cvtColor(img, cv2.COLOR_BGR2HLS)\n",
    "\n",
    "\n",
    "\n",
    "\n",
    "def augment_brightness_camera_images(image):\n",
    "    image = cv2.cvtColor(image,cv2.COLOR_YUV2BGR)\n",
    "    image1 = cv2.cvtColor(image,cv2.COLOR_BGR2HSV)\n",
    "    image1 = np.array(image1, dtype = np.float64)\n",
    "    random_bright = .5+np.random.uniform()\n",
    "    image1[:,:,2] = image1[:,:,2]*random_bright\n",
    "    image1[:,:,2][image1[:,:,2]>255]  = 255\n",
    "    image1 = np.array(image1, dtype = np.uint8)\n",
    "    image1 = cv2.cvtColor(image1,cv2.COLOR_HSV2BGR)\n",
    "    image = cv2.cvtColor(image,cv2.COLOR_BGR2YUV)\n",
    "    return image1\n",
    "\n",
    "\n",
    "def add_random_shadow(image):\n",
    "    top_y = 200*np.random.uniform()\n",
    "    top_x = 0\n",
    "    bot_x = 66\n",
    "    bot_y = 200*np.random.uniform()\n",
    "    image = cv2.cvtColor(image,cv2.COLOR_YUV2BGR)\n",
    "    image_hls = cv2.cvtColor(image,cv2.COLOR_BGR2HLS)\n",
    "    shadow_mask = 0*image_hls[:,:,1]\n",
    "    X_m = np.mgrid[0:image.shape[0],0:image.shape[1]][0]\n",
    "    Y_m = np.mgrid[0:image.shape[0],0:image.shape[1]][1]\n",
    "    shadow_mask[((X_m-top_x)*(bot_y-top_y) -(bot_x - top_x)*(Y_m-top_y) >=0)]=1\n",
    "    #random_bright = .25+.7*np.random.uniform()\n",
    "    if np.random.randint(2)==1:\n",
    "        random_bright = .5\n",
    "        cond1 = shadow_mask==1\n",
    "        cond0 = shadow_mask==0\n",
    "        if np.random.randint(2)==1:\n",
    "            image_hls[:,:,1][cond1] = image_hls[:,:,1][cond1]*random_bright\n",
    "        else:\n",
    "            image_hls[:,:,1][cond0] = image_hls[:,:,1][cond0]*random_bright    \n",
    "    image = cv2.cvtColor(image_hls,cv2.COLOR_HLS2BGR)\n",
    "    image = cv2.cvtColor(image,cv2.COLOR_BGR2YUV)\n",
    "    return image\n",
    "\n",
    "def random_append_augment_images(images,measurements):\n",
    "    rand_arr=random.sample(list(range(1,len(measurements))),int(len(measurements)/3))\n",
    "    rand_arr_1=random.sample(list(range(1,len(measurements))),int(len(measurements)/3))\n",
    "    for index,value in enumerate(measurements):\n",
    "        if index in rand_arr:\n",
    "            images.append(augment_brightness_camera_images(images[index]))\n",
    "            measurements.append(measurements[index])\n",
    "        if index in rand_arr_1:\n",
    "            images.append(add_random_shadow(images[index]))\n",
    "            measurements.append(measurements[index])\n",
    "    return images, measurements\n",
    "\n",
    "def img_resize(images):\n",
    "    for img in images:\n",
    "        img=cv2.resize(img,(200,66),interpolation = cv2.INTER_AREA)\n",
    "        image=img\n",
    "    return images,image\n",
    "\n",
    "\"\"\"\n",
    "lines, images, measurements, image=read_data_udacity()\n",
    "meas_len=len(measurements)     \n",
    "images, measurements=read_data_recorded(images,measurements)\n",
    "print(len(images))\n",
    "images, measurements=random_append_augment_images(images,measurements)\n",
    "#images,image=img_resize(images)\n",
    "print(len(images))\n",
    "\"\"\"\n",
    "\"\"\"\n",
    "# Adding additional dataset\n",
    "for index, value in enumerate(measurements[1:int(meas_len/4)]):\n",
    "    if value !=0:\n",
    "        measurements.append(-value)\n",
    "        flip_image=cv2.flip(images[index],1)\n",
    "        images=np.append(images,flip_image[None,...],0)\n",
    "        if index%500==0:\n",
    "            print(index)\n",
    "\"\"\"\n",
    "\n",
    "\n",
    "\n"
   ]
  },
  {
   "cell_type": "code",
   "execution_count": 59,
   "metadata": {
    "collapsed": false
   },
   "outputs": [],
   "source": [
    "def read_csv():\n",
    "    with open('../CarND-Behavioral-Cloning-P3/Udacity_data/data/driving_log.csv') as csvfile:\n",
    "        reader=csv.reader(csvfile)\n",
    "        for line in reader:\n",
    "            lines.append(line)\n",
    "    with open('../CarND-Behavioral-Cloning-P3/recorded_data/driving_log.csv') as csvfile:\n",
    "        reader=csv.reader(csvfile)\n",
    "        for line in reader:\n",
    "            lines.append(line)\n",
    "    return lines\n",
    "\n",
    "def data_gen(lines, batch_size=30):\n",
    "    while True:\n",
    "        sample_dt=random.sample(lines[2:],int(batch_size/2))\n",
    "        images,measurements=read_images(sample_dt)\n",
    "        #for img in images:\n",
    "        #    img=color_change(img)\n",
    "        images,measurements=random_append_augment_images(images,measurements)\n",
    "        \n",
    "        images=np.asarray(images)\n",
    "        measurements=np.asarray(measurements)\n",
    "        #print('images shape',images.shape)\n",
    "        #print('measurements shape',measurements.shape)\n",
    "        ind = np.random.choice(images.shape[0], batch_size, replace=False)\n",
    "        images=images[ind,:,:,:]\n",
    "        measurements=measurements[ind]\n",
    "        X=images\n",
    "        y=measurements\n",
    "        \n",
    "        yield X,y\n",
    "        "
   ]
  },
  {
   "cell_type": "code",
   "execution_count": 60,
   "metadata": {
    "collapsed": false
   },
   "outputs": [],
   "source": [
    "lines=[]\n",
    "lines=read_csv()\n",
    "\n",
    "\n",
    "\n",
    "gen_example=data_gen(lines,40)\n",
    "images,measurements=next(gen_example)\n",
    "#images,measurements=gen_example\n",
    "\n",
    "#print(images.shape)\n",
    "image=images[5]\n",
    "#print(image[1:10,1:10,1:2])\n",
    "#for img in images:\n",
    "#    img=cv2.cvtColor(img, cv2.COLOR_HLS2BGR)\n",
    "    \n",
    "#model.fit_generator(gen_train,samples)"
   ]
  },
  {
   "cell_type": "markdown",
   "metadata": {},
   "source": [
    "## Displaying an image and checking integrity of the dataset"
   ]
  },
  {
   "cell_type": "code",
   "execution_count": 29,
   "metadata": {
    "collapsed": false
   },
   "outputs": [
    {
     "name": "stdout",
     "output_type": "stream",
     "text": [
      "Output Label for the input 31  is : -0.0\n",
      "Size of measurements is (40,)\n",
      "One of the measurements is: 0.406227\n",
      "Size of image: (66, 200, 3)\n",
      "Size of images numpy array: (40, 66, 200, 3)\n"
     ]
    },
    {
     "data": {
      "image/png": "[encoded data removed]",
      "text/plain": [
       "<matplotlib.figure.Figure at 0x7fad7cf7af28>"
      ]
     },
     "metadata": {},
     "output_type": "display_data"
    }
   ],
   "source": [
    "import matplotlib.pyplot as plt\n",
    "import random\n",
    "#%matplotlib inline\n",
    "\n",
    "#print(image.shape)\n",
    "#images=np.asarray(images)\n",
    "#measurements=np.asarray(measurements)\n",
    "# Reshaping the images python list into numpy array\n",
    "images=np.reshape(images,(-1,image.shape[0],image.shape[1],3))\n",
    "measurements=np.reshape(measurements,(-1))\n",
    "\n",
    "# Sample outputs from the dataset to check integrity\n",
    "#display_im(images,measurements)\n",
    "print('Size of measurements is',measurements.shape)\n",
    "print('One of the measurements is:',measurements[4])\n",
    "print('Size of image:',images[2].shape)\n",
    "print('Size of images numpy array:',images.shape)\n"
   ]
  },
  {
   "cell_type": "code",
   "execution_count": 24,
   "metadata": {
    "collapsed": false
   },
   "outputs": [
    {
     "name": "stdout",
     "output_type": "stream",
     "text": [
      "40\n"
     ]
    }
   ],
   "source": []
  },
  {
   "cell_type": "code",
   "execution_count": 11,
   "metadata": {
    "collapsed": false
   },
   "outputs": [
    {
     "name": "stdout",
     "output_type": "stream",
     "text": [
      "Size of images numpy array: (40, 66, 200, 3)\n"
     ]
    }
   ],
   "source": []
  },
  {
   "cell_type": "markdown",
   "metadata": {},
   "source": [
    "## Splitting dataset into Training ,Validation and test set"
   ]
  },
  {
   "cell_type": "code",
   "execution_count": 61,
   "metadata": {
    "collapsed": false
   },
   "outputs": [
    {
     "name": "stdout",
     "output_type": "stream",
     "text": [
      "X_train size =  (20399, 66, 200, 3) y_train size =  (20399,)\n",
      "X_valid size =  (5100, 66, 200, 3) y_valid size =  (5100,)\n",
      "X_test size =  (6375, 66, 200, 3) y_test size =  (6375,)\n"
     ]
    }
   ],
   "source": []
  },
  {
   "cell_type": "code",
   "execution_count": null,
   "metadata": {
    "collapsed": true
   },
   "outputs": [],
   "source": []
  },
  {
   "cell_type": "markdown",
   "metadata": {},
   "source": [
    "## Algorithm"
   ]
  },
  {
   "cell_type": "code",
   "execution_count": 56,
   "metadata": {
    "collapsed": false
   },
   "outputs": [
    {
     "ename": "NameError",
     "evalue": "name 'gen_test' is not defined",
     "output_type": "error",
     "traceback": [
      "\u001b[0;31m---------------------------------------------------------------------------\u001b[0m",
      "\u001b[0;31mNameError\u001b[0m                                 Traceback (most recent call last)",
      "\u001b[0;32m<ipython-input-56-65ec60f41dbf>\u001b[0m in \u001b[0;36m<module>\u001b[0;34m()\u001b[0m\n\u001b[1;32m     54\u001b[0m \u001b[0;34m\u001b[0m\u001b[0m\n\u001b[1;32m     55\u001b[0m \u001b[0;31m#datagen.fit(X_train)\u001b[0m\u001b[0;34m\u001b[0m\u001b[0;34m\u001b[0m\u001b[0m\n\u001b[0;32m---> 56\u001b[0;31m \u001b[0mmodel\u001b[0m\u001b[0;34m.\u001b[0m\u001b[0mfit_generator\u001b[0m\u001b[0;34m(\u001b[0m\u001b[0mgen_train\u001b[0m\u001b[0;34m,\u001b[0m \u001b[0msamples_per_epoch\u001b[0m\u001b[0;34m=\u001b[0m\u001b[0;36m2000\u001b[0m\u001b[0;34m,\u001b[0m\u001b[0mnb_epoch\u001b[0m\u001b[0;34m=\u001b[0m\u001b[0mepochs\u001b[0m\u001b[0;34m,\u001b[0m\u001b[0mvalidation_data\u001b[0m\u001b[0;34m=\u001b[0m\u001b[0mgen_test\u001b[0m\u001b[0;34m,\u001b[0m\u001b[0mnb_val_samples\u001b[0m\u001b[0;34m=\u001b[0m\u001b[0;36m1000\u001b[0m\u001b[0;34m)\u001b[0m\u001b[0;34m\u001b[0m\u001b[0m\n\u001b[0m\u001b[1;32m     57\u001b[0m \u001b[0;34m\u001b[0m\u001b[0m\n\u001b[1;32m     58\u001b[0m \u001b[0;31m#print(model.evaluate(X_test,y_test))\u001b[0m\u001b[0;34m\u001b[0m\u001b[0;34m\u001b[0m\u001b[0m\n",
      "\u001b[0;31mNameError\u001b[0m: name 'gen_test' is not defined"
     ]
    }
   ],
   "source": [
    "from keras.models import Sequential\n",
    "from keras.layers import Flatten,Dense, Lambda\n",
    "# There was a problem with original Keras progress bar due to which Notebook used to hang.\n",
    "# Changing the progress bar with another version of it so as to get the code working in Notebook. Look at model.fit command on how its used\n",
    "#from keras_tqdm import TQDMNotebookCallback \n",
    "from keras.layers import Conv2D, MaxPooling2D, Dropout, Activation, Cropping2D, ELU\n",
    "from keras import backend as K\n",
    "from keras.preprocessing.image import ImageDataGenerator\n",
    "from keras.callbacks import ModelCheckpoint\n",
    "\n",
    "# NVIDIA Model\n",
    "input_shape=(image.shape[0],image.shape[1],3)\n",
    "model=Sequential()\n",
    "model.add(Lambda(lambda x:x/255.0-0.50,input_shape=input_shape))\n",
    "model.add(Conv2D(3,1,1,subsample=(1,1),border_mode=\"valid\",init='he_normal'))\n",
    "model.add(ELU())\n",
    "model.add(Conv2D(24,5,5,subsample=(2,2),border_mode=\"valid\",init='he_normal'))\n",
    "model.add(ELU())\n",
    "model.add(Conv2D(36,5,5,subsample=(2,2),border_mode=\"valid\",init='he_normal'))\n",
    "model.add(ELU())\n",
    "model.add(Dropout(.4))\n",
    "model.add(Conv2D(48,5,5,subsample=(2,2),border_mode=\"valid\",init='he_normal'))\n",
    "model.add(ELU())\n",
    "model.add(Conv2D(64,3,3,subsample=(1,1),border_mode=\"valid\",init='he_normal'))\n",
    "model.add(ELU())\n",
    "model.add(Conv2D(64,3,3,subsample=(1,1),border_mode=\"valid\",init='he_normal'))\n",
    "model.add(Dropout(.3))\n",
    "model.add(ELU())\n",
    "model.add(Flatten())\n",
    "model.add(Dense(1164,init='he_normal'))\n",
    "model.add(Activation('relu'))\n",
    "model.add(Dropout(.2))\n",
    "model.add(Dense(100,init='he_normal'))\n",
    "model.add(ELU())\n",
    "model.add(Dense(50,init='he_normal'))\n",
    "model.add(ELU())\n",
    "model.add(Dense(10,init='he_normal'))\n",
    "model.add(ELU())\n",
    "model.add(Dense(1,init='he_normal'))\n",
    "\n",
    "model.compile(loss='mse',optimizer='adam',metrics=['accuracy'])\n",
    "#num_examples = len(X_train)\n",
    "batch_size=30\n",
    "epochs=4\n",
    "gen_train=data_gen(lines,30)\n",
    "gen_valid=data_gen(lines,30)\n",
    "\n",
    "\n",
    "#chkpnt = ModelCheckpoint('checkpoints/weights2.{epoch:02d}-{val_loss:.2f}.hdf5', monitor='val_loss', save_weights_only=False)\n",
    "#datagen.fit(X_train)\n",
    "model.fit_generator(gen_train, samples_per_epoch=25000,nb_epoch=epochs,validation_data=gen_valid,nb_val_samples=2500, max_q_size=25, nb_worker=4, pickle_safe=True)\n",
    "\n",
    "#print(model.evaluate(X_test,y_test))\n",
    "#model.fit(X_train,y_train,validation_split=0.2,nb_epoch=3, verbose=0, callbacks=[TQDMNotebookCallback(leave_inner=True, leave_outer=True)])\n",
    "model.save('model.h5')"
   ]
  },
  {
   "cell_type": "code",
   "execution_count": null,
   "metadata": {
    "collapsed": true
   },
   "outputs": [],
   "source": []
  }
 ],
 "metadata": {
  "anaconda-cloud": {},
  "kernelspec": {
   "display_name": "Python 3",
   "language": "python",
   "name": "python3"
  },
  "language_info": {
   "codemirror_mode": {
    "name": "ipython",
    "version": 3
   },
   "file_extension": ".py",
   "mimetype": "text/x-python",
   "name": "python",
   "nbconvert_exporter": "python",
   "pygments_lexer": "ipython3",
   "version": "3.5.2"
  },
  "widgets": {
   "state": {},
   "version": "1.1.2"
  }
 },
 "nbformat": 4,
 "nbformat_minor": 2
}
