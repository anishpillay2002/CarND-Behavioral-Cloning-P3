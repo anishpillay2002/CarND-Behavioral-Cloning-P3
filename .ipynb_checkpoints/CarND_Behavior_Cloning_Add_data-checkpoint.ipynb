{
 "cells": [
  {
   "cell_type": "code",
   "execution_count": 10,
   "metadata": {
    "collapsed": false
   },
   "outputs": [],
   "source": [
    "from support_fnc import data_gen,read_images,augment_brightness_camera_images,add_random_shadow,random_append_augment_images,read_csv,img_resize\n",
    "import csv\n",
    "import cv2\n",
    "import numpy as np\n",
    "import random\n",
    "from PIL import Image\n",
    "from keras.models import load_model"
   ]
  },
  {
   "cell_type": "code",
   "execution_count": 11,
   "metadata": {
    "collapsed": true
   },
   "outputs": [],
   "source": [
    "lines=[]\n",
    "def read_csv():\n",
    "    with open('../CarND-Behavioral-Cloning-P3/recorded_data_add/driving_log.csv') as csvfile:\n",
    "        reader=csv.reader(csvfile)\n",
    "        for line in reader:\n",
    "            lines.append(line)\n",
    "    #with open('../CarND-Behavioral-Cloning-P3/recorded_data_jungle/driving_log.csv') as csvfile:\n",
    "     #   reader=csv.reader(csvfile)\n",
    "     #   for line in reader:\n",
    "     #       lines.append(line)\n",
    "    return lines"
   ]
  },
  {
   "cell_type": "code",
   "execution_count": 12,
   "metadata": {
    "collapsed": false
   },
   "outputs": [],
   "source": [
    "lines=read_csv()\n",
    "\n",
    "\n",
    "gen_example=data_gen(lines,40)\n",
    "images,measurements=next(gen_example)\n",
    "#images,measurements=gen_example\n",
    "\n",
    "#print(images.shape)\n",
    "image=images[5]"
   ]
  },
  {
   "cell_type": "code",
   "execution_count": null,
   "metadata": {
    "collapsed": true
   },
   "outputs": [],
   "source": [
    "#model = load_model('model.h5')\n",
    "\n",
    "from keras.models import Sequential\n",
    "from keras.layers import Flatten,Dense, Lambda\n",
    "# There was a problem with original Keras progress bar due to which Notebook used to hang.\n",
    "# Changing the progress bar with another version of it so as to get the code working in Notebook. Look at model.fit command on how its used\n",
    "#from keras_tqdm import TQDMNotebookCallback \n",
    "from keras.layers import Conv2D, MaxPooling2D, Dropout, Activation, Cropping2D, ELU\n",
    "from keras import backend as K\n",
    "from keras.preprocessing.image import ImageDataGenerator\n",
    "from keras.callbacks import ModelCheckpoint\n",
    "\n",
    "# NVIDIA Model\n",
    "input_shape=(image.shape[0],image.shape[1],3)\n",
    "model=Sequential()\n",
    "model.add(Lambda(lambda x:x/255.0-0.50,input_shape=input_shape))\n",
    "model.add(Conv2D(3,1,1,subsample=(1,1),border_mode=\"valid\",init='he_normal'))\n",
    "model.add(ELU())\n",
    "model.add(Conv2D(24,5,5,subsample=(2,2),border_mode=\"valid\",init='he_normal'))\n",
    "model.add(ELU())\n",
    "model.add(Conv2D(36,5,5,subsample=(2,2),border_mode=\"valid\",init='he_normal'))\n",
    "model.add(ELU())\n",
    "model.add(Dropout(.4))\n",
    "model.add(Conv2D(48,5,5,subsample=(2,2),border_mode=\"valid\",init='he_normal'))\n",
    "model.add(ELU())\n",
    "model.add(Conv2D(64,3,3,subsample=(1,1),border_mode=\"valid\",init='he_normal'))\n",
    "model.add(ELU())\n",
    "model.add(Conv2D(64,3,3,subsample=(1,1),border_mode=\"valid\",init='he_normal'))\n",
    "model.add(Dropout(.3))\n",
    "model.add(ELU())\n",
    "model.add(Flatten())\n",
    "model.add(Dense(1164,init='he_normal'))\n",
    "model.add(Activation('relu'))\n",
    "model.add(Dropout(.2))\n",
    "model.add(Dense(100,init='he_normal'))\n",
    "model.add(ELU())\n",
    "model.add(Dense(50,init='he_normal'))\n",
    "model.add(ELU())\n",
    "model.add(Dense(10,init='he_normal'))\n",
    "model.add(ELU())\n",
    "model.add(Dense(1,init='he_normal'))\n",
    "\n",
    "model.compile(loss='mse',optimizer='adam',metrics=['accuracy'])\n",
    "\n",
    "\n",
    "\n",
    "batch_size=30\n",
    "epochs=6\n",
    "gen_train=data_gen(lines,30)\n",
    "gen_valid=data_gen(lines,30)\n",
    "\n",
    "\n",
    "model.fit_generator(gen_train, samples_per_epoch=25000,nb_epoch=epochs,validation_data=gen_valid,nb_val_samples=2500, max_q_size=25, nb_worker=4, pickle_safe=True)\n",
    "model.save('model_add.h5')"
   ]
  }
 ],
 "metadata": {
  "kernelspec": {
   "display_name": "Python 3",
   "language": "python",
   "name": "python3"
  },
  "language_info": {
   "codemirror_mode": {
    "name": "ipython",
    "version": 3
   },
   "file_extension": ".py",
   "mimetype": "text/x-python",
   "name": "python",
   "nbconvert_exporter": "python",
   "pygments_lexer": "ipython3",
   "version": "3.5.2"
  },
  "widgets": {
   "state": {},
   "version": "1.1.2"
  }
 },
 "nbformat": 4,
 "nbformat_minor": 2
}
